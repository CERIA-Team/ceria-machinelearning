{
 "cells": [
  {
   "cell_type": "markdown",
   "metadata": {
    "id": "mb8PAwtZ2CwB"
   },
   "source": [
    "# Setting Up The Environment"
   ]
  },
  {
   "cell_type": "code",
   "execution_count": 1,
   "metadata": {
    "colab": {
     "base_uri": "https://localhost:8080/"
    },
    "id": "B84WIbYSq6hn",
    "outputId": "29eed397-9b14-44c0-8457-11591e282278"
   },
   "outputs": [
    {
     "name": "stdout",
     "output_type": "stream",
     "text": [
      "Collecting scikit-learn==1.3.2\n",
      "  Downloading scikit_learn-1.3.2-cp310-cp310-manylinux_2_17_x86_64.manylinux2014_x86_64.whl (10.8 MB)\n",
      "\u001b[2K     \u001b[90m━━━━━━━━━━━━━━━━━━━━━━━━━━━━━━━━━━━━━━━━\u001b[0m \u001b[32m10.8/10.8 MB\u001b[0m \u001b[31m72.5 MB/s\u001b[0m eta \u001b[36m0:00:00\u001b[0m\n",
      "\u001b[?25hCollecting imbalanced-learn==0.11.0\n",
      "  Downloading imbalanced_learn-0.11.0-py3-none-any.whl (235 kB)\n",
      "\u001b[2K     \u001b[90m━━━━━━━━━━━━━━━━━━━━━━━━━━━━━━━━━━━━━━━━\u001b[0m \u001b[32m235.6/235.6 kB\u001b[0m \u001b[31m23.2 MB/s\u001b[0m eta \u001b[36m0:00:00\u001b[0m\n",
      "\u001b[?25hRequirement already satisfied: numpy<2.0,>=1.17.3 in /usr/local/lib/python3.10/dist-packages (from scikit-learn==1.3.2) (1.25.2)\n",
      "Requirement already satisfied: scipy>=1.5.0 in /usr/local/lib/python3.10/dist-packages (from scikit-learn==1.3.2) (1.11.4)\n",
      "Requirement already satisfied: joblib>=1.1.1 in /usr/local/lib/python3.10/dist-packages (from scikit-learn==1.3.2) (1.4.2)\n",
      "Requirement already satisfied: threadpoolctl>=2.0.0 in /usr/local/lib/python3.10/dist-packages (from scikit-learn==1.3.2) (3.5.0)\n",
      "Installing collected packages: scikit-learn, imbalanced-learn\n",
      "  Attempting uninstall: scikit-learn\n",
      "    Found existing installation: scikit-learn 1.2.2\n",
      "    Uninstalling scikit-learn-1.2.2:\n",
      "      Successfully uninstalled scikit-learn-1.2.2\n",
      "  Attempting uninstall: imbalanced-learn\n",
      "    Found existing installation: imbalanced-learn 0.10.1\n",
      "    Uninstalling imbalanced-learn-0.10.1:\n",
      "      Successfully uninstalled imbalanced-learn-0.10.1\n",
      "Successfully installed imbalanced-learn-0.11.0 scikit-learn-1.3.2\n"
     ]
    }
   ],
   "source": [
    "!pip install scikit-learn==1.3.2 imbalanced-learn==0.11.0"
   ]
  },
  {
   "cell_type": "code",
   "execution_count": 2,
   "metadata": {
    "colab": {
     "base_uri": "https://localhost:8080/"
    },
    "id": "v4LtN-M0q8LU",
    "outputId": "cc87506a-3271-4748-8da3-3e949d03b89d"
   },
   "outputs": [
    {
     "name": "stdout",
     "output_type": "stream",
     "text": [
      "Requirement already satisfied: kaggle in /usr/local/lib/python3.10/dist-packages (1.6.14)\n",
      "Requirement already satisfied: six>=1.10 in /usr/local/lib/python3.10/dist-packages (from kaggle) (1.16.0)\n",
      "Requirement already satisfied: certifi>=2023.7.22 in /usr/local/lib/python3.10/dist-packages (from kaggle) (2024.6.2)\n",
      "Requirement already satisfied: python-dateutil in /usr/local/lib/python3.10/dist-packages (from kaggle) (2.8.2)\n",
      "Requirement already satisfied: requests in /usr/local/lib/python3.10/dist-packages (from kaggle) (2.31.0)\n",
      "Requirement already satisfied: tqdm in /usr/local/lib/python3.10/dist-packages (from kaggle) (4.66.4)\n",
      "Requirement already satisfied: python-slugify in /usr/local/lib/python3.10/dist-packages (from kaggle) (8.0.4)\n",
      "Requirement already satisfied: urllib3 in /usr/local/lib/python3.10/dist-packages (from kaggle) (2.0.7)\n",
      "Requirement already satisfied: bleach in /usr/local/lib/python3.10/dist-packages (from kaggle) (6.1.0)\n",
      "Requirement already satisfied: webencodings in /usr/local/lib/python3.10/dist-packages (from bleach->kaggle) (0.5.1)\n",
      "Requirement already satisfied: text-unidecode>=1.3 in /usr/local/lib/python3.10/dist-packages (from python-slugify->kaggle) (1.3)\n",
      "Requirement already satisfied: charset-normalizer<4,>=2 in /usr/local/lib/python3.10/dist-packages (from requests->kaggle) (3.3.2)\n",
      "Requirement already satisfied: idna<4,>=2.5 in /usr/local/lib/python3.10/dist-packages (from requests->kaggle) (3.7)\n"
     ]
    }
   ],
   "source": [
    "!pip install kaggle\n",
    "\n",
    "import os\n",
    "os.environ['KAGGLE_USERNAME'] = \"pideeell\"\n",
    "os.environ['KAGGLE_KEY'] = \"a917e24c299339667d5610765517f26b\"\n",
    "\n",
    "from kaggle.api.kaggle_api_extended import KaggleApi\n",
    "api = KaggleApi()\n",
    "api.authenticate()"
   ]
  },
  {
   "cell_type": "code",
   "execution_count": 1,
   "metadata": {
    "ExecuteTime": {
     "end_time": "2024-06-17T15:49:05.192835Z",
     "start_time": "2024-06-17T15:49:01.501074Z"
    },
    "id": "ElEII-yVnMDS"
   },
   "outputs": [],
   "source": [
    "import pandas as pd\n",
    "import numpy as np\n",
    "import joblib\n",
    "from sklearn.preprocessing import StandardScaler, OneHotEncoder\n",
    "from sklearn.ensemble import RandomForestClassifier\n",
    "from sklearn.model_selection import train_test_split, GridSearchCV\n",
    "from sklearn.metrics import classification_report, accuracy_score\n",
    "from sklearn.cluster import KMeans\n",
    "from imblearn.under_sampling import RandomUnderSampler\n",
    "import json\n",
    "import random"
   ]
  },
  {
   "cell_type": "markdown",
   "metadata": {
    "id": "sDjUZL052Jt1"
   },
   "source": [
    "# Datasets and Genre List"
   ]
  },
  {
   "cell_type": "code",
   "execution_count": 4,
   "metadata": {
    "colab": {
     "base_uri": "https://localhost:8080/"
    },
    "id": "PAawK-Kuq1I8",
    "outputId": "924f63e6-cd6d-4eca-aa0b-8e275e8674f0"
   },
   "outputs": [
    {
     "name": "stdout",
     "output_type": "stream",
     "text": [
      "Dataset URL: https://www.kaggle.com/datasets/maharshipandya/-spotify-tracks-dataset\n",
      "License(s): ODbL-1.0\n",
      "Downloading -spotify-tracks-dataset.zip to /content\n",
      " 61% 5.00M/8.17M [00:00<00:00, 30.8MB/s]\n",
      "100% 8.17M/8.17M [00:00<00:00, 40.6MB/s]\n",
      "Archive:  /content/-spotify-tracks-dataset.zip\n",
      "  inflating: /content/dataset/dataset.csv  \n"
     ]
    }
   ],
   "source": [
    "!kaggle datasets download -d maharshipandya/-spotify-tracks-dataset\n",
    "!unzip -o '/-spotify-tracks-dataset.zip' -d '/dataset/'\n",
    "!rm '/-spotify-tracks-dataset.zip'"
   ]
  },
  {
   "cell_type": "code",
   "execution_count": 5,
   "metadata": {
    "colab": {
     "base_uri": "https://localhost:8080/"
    },
    "id": "VXGODEb4q--N",
    "outputId": "88a3584e-3e6f-4dfa-f408-d4ac84fa3440"
   },
   "outputs": [
    {
     "name": "stdout",
     "output_type": "stream",
     "text": [
      "Dataset URL: https://www.kaggle.com/datasets/arashnic/fitbit\n",
      "License(s): CC0-1.0\n",
      "Downloading fitbit.zip to /content\n",
      " 62% 27.0M/43.3M [00:00<00:00, 66.7MB/s]\n",
      "100% 43.3M/43.3M [00:00<00:00, 75.4MB/s]\n",
      "Archive:  /content/fitbit.zip\n",
      "  inflating: /content/dataset/mturkfitbit_export_3.12.16-4.11.16/Fitabase Data 3.12.16-4.11.16/dailyActivity_merged.csv  \n",
      "  inflating: /content/dataset/mturkfitbit_export_3.12.16-4.11.16/Fitabase Data 3.12.16-4.11.16/heartrate_seconds_merged.csv  \n",
      "  inflating: /content/dataset/mturkfitbit_export_3.12.16-4.11.16/Fitabase Data 3.12.16-4.11.16/hourlyCalories_merged.csv  \n",
      "  inflating: /content/dataset/mturkfitbit_export_3.12.16-4.11.16/Fitabase Data 3.12.16-4.11.16/hourlyIntensities_merged.csv  \n",
      "  inflating: /content/dataset/mturkfitbit_export_3.12.16-4.11.16/Fitabase Data 3.12.16-4.11.16/hourlySteps_merged.csv  \n",
      "  inflating: /content/dataset/mturkfitbit_export_3.12.16-4.11.16/Fitabase Data 3.12.16-4.11.16/minuteCaloriesNarrow_merged.csv  \n",
      "  inflating: /content/dataset/mturkfitbit_export_3.12.16-4.11.16/Fitabase Data 3.12.16-4.11.16/minuteIntensitiesNarrow_merged.csv  \n",
      "  inflating: /content/dataset/mturkfitbit_export_3.12.16-4.11.16/Fitabase Data 3.12.16-4.11.16/minuteMETsNarrow_merged.csv  \n",
      "  inflating: /content/dataset/mturkfitbit_export_3.12.16-4.11.16/Fitabase Data 3.12.16-4.11.16/minuteSleep_merged.csv  \n",
      "  inflating: /content/dataset/mturkfitbit_export_3.12.16-4.11.16/Fitabase Data 3.12.16-4.11.16/minuteStepsNarrow_merged.csv  \n",
      "  inflating: /content/dataset/mturkfitbit_export_3.12.16-4.11.16/Fitabase Data 3.12.16-4.11.16/weightLogInfo_merged.csv  \n",
      "  inflating: /content/dataset/mturkfitbit_export_4.12.16-5.12.16/Fitabase Data 4.12.16-5.12.16/dailyActivity_merged.csv  \n",
      "  inflating: /content/dataset/mturkfitbit_export_4.12.16-5.12.16/Fitabase Data 4.12.16-5.12.16/dailyCalories_merged.csv  \n",
      "  inflating: /content/dataset/mturkfitbit_export_4.12.16-5.12.16/Fitabase Data 4.12.16-5.12.16/dailyIntensities_merged.csv  \n",
      "  inflating: /content/dataset/mturkfitbit_export_4.12.16-5.12.16/Fitabase Data 4.12.16-5.12.16/dailySteps_merged.csv  \n",
      "  inflating: /content/dataset/mturkfitbit_export_4.12.16-5.12.16/Fitabase Data 4.12.16-5.12.16/heartrate_seconds_merged.csv  \n",
      "  inflating: /content/dataset/mturkfitbit_export_4.12.16-5.12.16/Fitabase Data 4.12.16-5.12.16/hourlyCalories_merged.csv  \n",
      "  inflating: /content/dataset/mturkfitbit_export_4.12.16-5.12.16/Fitabase Data 4.12.16-5.12.16/hourlyIntensities_merged.csv  \n",
      "  inflating: /content/dataset/mturkfitbit_export_4.12.16-5.12.16/Fitabase Data 4.12.16-5.12.16/hourlySteps_merged.csv  \n",
      "  inflating: /content/dataset/mturkfitbit_export_4.12.16-5.12.16/Fitabase Data 4.12.16-5.12.16/minuteCaloriesNarrow_merged.csv  \n",
      "  inflating: /content/dataset/mturkfitbit_export_4.12.16-5.12.16/Fitabase Data 4.12.16-5.12.16/minuteCaloriesWide_merged.csv  \n",
      "  inflating: /content/dataset/mturkfitbit_export_4.12.16-5.12.16/Fitabase Data 4.12.16-5.12.16/minuteIntensitiesNarrow_merged.csv  \n",
      "  inflating: /content/dataset/mturkfitbit_export_4.12.16-5.12.16/Fitabase Data 4.12.16-5.12.16/minuteIntensitiesWide_merged.csv  \n",
      "  inflating: /content/dataset/mturkfitbit_export_4.12.16-5.12.16/Fitabase Data 4.12.16-5.12.16/minuteMETsNarrow_merged.csv  \n",
      "  inflating: /content/dataset/mturkfitbit_export_4.12.16-5.12.16/Fitabase Data 4.12.16-5.12.16/minuteSleep_merged.csv  \n",
      "  inflating: /content/dataset/mturkfitbit_export_4.12.16-5.12.16/Fitabase Data 4.12.16-5.12.16/minuteStepsNarrow_merged.csv  \n",
      "  inflating: /content/dataset/mturkfitbit_export_4.12.16-5.12.16/Fitabase Data 4.12.16-5.12.16/minuteStepsWide_merged.csv  \n",
      "  inflating: /content/dataset/mturkfitbit_export_4.12.16-5.12.16/Fitabase Data 4.12.16-5.12.16/sleepDay_merged.csv  \n",
      "  inflating: /content/dataset/mturkfitbit_export_4.12.16-5.12.16/Fitabase Data 4.12.16-5.12.16/weightLogInfo_merged.csv  \n"
     ]
    }
   ],
   "source": [
    "!kaggle datasets download -d arashnic/fitbit\n",
    "!unzip -o '/fitbit.zip' -d '/dataset/'\n",
    "!rm '/fitbit.zip'"
   ]
  },
  {
   "cell_type": "code",
   "execution_count": 3,
   "metadata": {
    "ExecuteTime": {
     "end_time": "2024-06-17T15:49:57.950905Z",
     "start_time": "2024-06-17T15:49:47.246171Z"
    },
    "id": "-fHOcm2IrQ2A"
   },
   "outputs": [],
   "source": [
    "# Read CSV\n",
    "df_Intensities = pd.read_csv('dataset/arashnic-fitbit/mturkfitbit_export_3.12.16-4.11.16/minuteIntensitiesNarrow_merged.csv')\n",
    "df_HR = pd.read_csv('dataset/arashnic-fitbit/mturkfitbit_export_3.12.16-4.11.16/heartrate_seconds_merged.csv')\n",
    "df_Calories = pd.read_csv('dataset/arashnic-fitbit/mturkfitbit_export_3.12.16-4.11.16/minuteCaloriesNarrow_merged.csv')\n",
    "df_METs = pd.read_csv('dataset/arashnic-fitbit/mturkfitbit_export_3.12.16-4.11.16/minuteMETsNarrow_merged.csv')\n",
    "\n",
    "df_Intensities1 = pd.read_csv('dataset/arashnic-fitbit/mturkfitbit_export_4.12.16-5.12.16/minuteIntensitiesNarrow_merged.csv')\n",
    "df_HR1 = pd.read_csv('dataset/arashnic-fitbit/mturkfitbit_export_4.12.16-5.12.16/heartrate_seconds_merged.csv')\n",
    "df_Calories1 = pd.read_csv('dataset/arashnic-fitbit/mturkfitbit_export_4.12.16-5.12.16/minuteCaloriesNarrow_merged.csv')\n",
    "df_METs1 = pd.read_csv('dataset/arashnic-fitbit/mturkfitbit_export_4.12.16-5.12.16/minuteMETsNarrow_merged.csv')\n",
    "\n",
    "# Concatenate df\n",
    "df_HR = pd.concat([df_HR, df_HR1], ignore_index=True)\n",
    "df_Intensities = pd.concat([df_Intensities, df_Intensities1], ignore_index=True)\n",
    "df_Calories = pd.concat([df_Calories, df_Calories1], ignore_index=True)\n",
    "df_METs = pd.concat([df_METs, df_METs1], ignore_index=True)\n",
    "\n",
    "# Rename columns\n",
    "df_HR.rename(columns={'Time': 'ActivityMinute'}, inplace=True)\n",
    "df_HR.rename(columns={'Value': 'HR'}, inplace=True)\n",
    "\n",
    "# Merge df\n",
    "df_fitness = df_Intensities.merge(df_HR, on=['Id', 'ActivityMinute'], how='inner') \\\n",
    "                       .merge(df_Calories, on=['Id', 'ActivityMinute'], how='inner') \\\n",
    "                       .merge(df_METs, on=['Id', 'ActivityMinute'], how='inner')"
   ]
  },
  {
   "cell_type": "code",
   "execution_count": 5,
   "metadata": {
    "ExecuteTime": {
     "end_time": "2024-06-17T15:50:14.547415Z",
     "start_time": "2024-06-17T15:50:14.499930Z"
    },
    "id": "xzDGjE7hscf6"
   },
   "outputs": [
    {
     "name": "stderr",
     "output_type": "stream",
     "text": [
      "A subdirectory or file model already exists.\n"
     ]
    }
   ],
   "source": [
    "# Create a dictionary to map genres to their respective heart rate intensities\n",
    "genre_to_intensity = {\n",
    "    'acoustic': {0, 1},\n",
    "    'afrobeat': {1, 2},\n",
    "    'alt-rock': {1, 2, 3},\n",
    "    'alternative': {1, 2},\n",
    "    'ambient': {0, 1},\n",
    "    'anime': {0, 1, 2},\n",
    "    'bluegrass': {0, 1},\n",
    "    'blues': {0, 1},\n",
    "    'brazil': {1, 2},\n",
    "    'breakbeat': {2, 3},\n",
    "    'british': {1, 2},\n",
    "    'chill': {0, 1},\n",
    "    'club': {2, 3},\n",
    "    'country': {0, 1},\n",
    "    'dance': {1, 2, 3},\n",
    "    'dancehall': {2, 3},\n",
    "    'deep-house': {1, 2},\n",
    "    'disco': {1, 2},\n",
    "    'drum-and-bass': {2, 3},\n",
    "    'dubstep': {2, 3},\n",
    "    'edm': {2, 3},\n",
    "    'electro': {2, 3},\n",
    "    'electronic': {1, 2},\n",
    "    'folk': {0, 1},\n",
    "    'funk': {1, 2},\n",
    "    'garage': {2, 3},\n",
    "    'grunge': {1, 2, 3},\n",
    "    'hard-rock': {2, 3},\n",
    "    'hip-hop': {1, 2, 3},\n",
    "    'house': {2, 3},\n",
    "    'indie': {1, 2},\n",
    "    'j-dance': {2, 3},\n",
    "    'j-pop': {1, 2},\n",
    "    'j-rock': {2, 3},\n",
    "    'jazz': {0, 1},\n",
    "    'k-pop': {1, 2},\n",
    "    'latin': {1, 2, 3},\n",
    "    'metal': {2, 3},\n",
    "    'metalcore': {3},\n",
    "    'minimal-techno': {1, 2},\n",
    "    'party': {2, 3},\n",
    "    'pop': {1, 2, 3},\n",
    "    'power-pop': {2, 3},\n",
    "    'progressive-house': {2, 3},\n",
    "    'psych-rock': {1, 2},\n",
    "    'punk-rock': {2, 3},\n",
    "    'punk': {2, 3},\n",
    "    'r-n-b': {1, 2},\n",
    "    'reggae': {1, 2},\n",
    "    'reggaeton': {2, 3},\n",
    "    'rock-n-roll': {2, 3},\n",
    "    'rock': {2, 3},\n",
    "    'rockabilly': {1, 2},\n",
    "    'salsa': {1, 2, 3},\n",
    "    'ska': {2, 3},\n",
    "    'soul': {0, 1, 2},\n",
    "    'spanish': {1, 2},\n",
    "    'synth-pop': {1, 2},\n",
    "    'techno': {2, 3},\n",
    "    'trance': {2, 3},\n",
    "    'trip-hop': {1, 2},\n",
    "    'world-music': {1, 2}\n",
    "}\n",
    "\n",
    "\n",
    "# Convert sets to lists in the dictionary\n",
    "for key, value in genre_to_intensity.items():\n",
    "    if isinstance(value, set):\n",
    "        genre_to_intensity[key] = list(value)\n",
    "\n",
    "\n",
    "!mkdir model\n",
    "\n",
    "# Save the dictionary to a JSON file\n",
    "with open(\"model/genre_to_intensity.json\", \"w\") as outfile:\n",
    "    json.dump(genre_to_intensity, outfile)"
   ]
  },
  {
   "cell_type": "markdown",
   "metadata": {
    "id": "7J9zDW5c2Uqc"
   },
   "source": [
    "# Data Preprocessing and User Initialization"
   ]
  },
  {
   "cell_type": "code",
   "execution_count": 6,
   "metadata": {
    "ExecuteTime": {
     "end_time": "2024-06-17T15:50:46.860310Z",
     "start_time": "2024-06-17T15:50:46.839261Z"
    },
    "id": "wWWJKzw2nFTJ"
   },
   "outputs": [],
   "source": [
    "# Song Dataset\n",
    "def load_and_clean_music_data(filepath):\n",
    "    \"\"\"\n",
    "    Loads music data from a CSV file and performs initial cleaning.\n",
    "\n",
    "    Parameters:\n",
    "    filepath (str): Path to the CSV file containing music data.\n",
    "\n",
    "    Returns:\n",
    "    pd.DataFrame: Cleaned DataFrame with selected columns and duplicates removed.\n",
    "    \"\"\"\n",
    "\n",
    "    df = pd.read_csv(filepath)\n",
    "    df = df[['track_id', 'track_name', 'artists', 'track_genre', 'popularity', 'energy', 'tempo', 'valence', 'danceability', 'loudness']]\n",
    "    df.drop_duplicates(subset=['track_id'], inplace=True)\n",
    "    return df\n",
    "\n",
    "\n",
    "def load_genre_to_intensity(filepath):\n",
    "    \"\"\"\n",
    "    Loads a mapping from genres to intensity levels from a JSON file.\n",
    "\n",
    "    Parameters:\n",
    "    filepath (str): Path to the JSON file containing genre-to-intensity mapping.\n",
    "\n",
    "    Returns:\n",
    "    dict: Dictionary mapping genres to intensity levels.\n",
    "    \"\"\"\n",
    "\n",
    "    with open(filepath, 'r') as file:\n",
    "        return json.load(file)\n",
    "\n",
    "\n",
    "def assign_intensity(row, genre_to_intensity):\n",
    "    \"\"\"\n",
    "    Assigns intensity levels to a song based on its genre, tempo, and energy.\n",
    "\n",
    "    Parameters:\n",
    "    row (pd.Series): A row from the DataFrame containing song details.\n",
    "    genre_to_intensity (dict): Dictionary mapping genres to intensity levels.\n",
    "\n",
    "    Returns:\n",
    "    set: Set of matched intensity levels or None if no matches are found.\n",
    "    \"\"\"\n",
    "\n",
    "    genre = row['track_genre'].lower()\n",
    "    tempo = row['tempo']\n",
    "    energy = row['energy']\n",
    "\n",
    "    intensity_set = genre_to_intensity.get(genre)\n",
    "    if intensity_set is None:\n",
    "        return None\n",
    "\n",
    "    matched_intensities = set()\n",
    "    if 0 in intensity_set and 50 <= tempo <= 90 and energy >= 0.6:\n",
    "        matched_intensities.add(0)\n",
    "    if 1 in intensity_set and 80 <= tempo <= 120 and energy >= 0.7:\n",
    "        matched_intensities.add(1)\n",
    "    if 2 in intensity_set and 110 <= tempo <= 140 and energy >= 0.75:\n",
    "        matched_intensities.add(2)\n",
    "    if 3 in intensity_set and tempo > 120 and energy >= 0.85:\n",
    "        matched_intensities.add(3)\n",
    "\n",
    "    return matched_intensities if matched_intensities else None"
   ]
  },
  {
   "cell_type": "code",
   "execution_count": 7,
   "metadata": {
    "ExecuteTime": {
     "end_time": "2024-06-17T15:50:55.124864Z",
     "start_time": "2024-06-17T15:50:55.116346Z"
    },
    "id": "o-bhs8L3kVHS"
   },
   "outputs": [],
   "source": [
    "# Fitness Dataset\n",
    "def preprocess_fitness_data(df_all):\n",
    "    \"\"\"\n",
    "    Preprocesses fitness data by performing under-sampling to balance the dataset.\n",
    "\n",
    "    Parameters:\n",
    "    df_all (pd.DataFrame): DataFrame containing the complete dataset with features and target.\n",
    "\n",
    "    Returns:\n",
    "    pd.DataFrame: DataFrame with balanced classes after under-sampling.\n",
    "    \"\"\"\n",
    "\n",
    "    X = df_all.drop(columns=['Intensity'])\n",
    "    y = df_all['Intensity']\n",
    "    under_sampling = RandomUnderSampler(random_state=42)\n",
    "    X_us, y_us = under_sampling.fit_resample(X, y)\n",
    "    return pd.concat([X_us, y_us], axis=1)\n",
    "\n",
    "\n",
    "def feature_scaling(X_train, X_test):\n",
    "    \"\"\"\n",
    "    Scales features using StandardScaler.\n",
    "\n",
    "    Parameters:\n",
    "    X_train (pd.DataFrame or np.array): Training data features.\n",
    "    X_test (pd.DataFrame or np.array): Test data features.\n",
    "\n",
    "    Returns:\n",
    "    StandardScaler: The fitted scaler object.\n",
    "    np.array: Scaled training data features.\n",
    "    np.array: Scaled test data features.\n",
    "    \"\"\"\n",
    "\n",
    "    scaler = StandardScaler()\n",
    "    X_train = scaler.fit_transform(X_train)\n",
    "    X_test = scaler.transform(X_test)\n",
    "    return scaler, X_train, X_test"
   ]
  },
  {
   "cell_type": "markdown",
   "metadata": {
    "id": "KWOF-mN62bB-"
   },
   "source": [
    "# Model Training"
   ]
  },
  {
   "cell_type": "markdown",
   "metadata": {
    "id": "VKK5kXLmpXT9"
   },
   "source": [
    "## Functions"
   ]
  },
  {
   "cell_type": "code",
   "execution_count": 9,
   "metadata": {
    "ExecuteTime": {
     "end_time": "2024-06-17T15:53:19.405311Z",
     "start_time": "2024-06-17T15:53:19.390238Z"
    },
    "id": "swvzDhNmnGw4"
   },
   "outputs": [],
   "source": [
    "# Model Training\n",
    "\n",
    "def hyperparameter_tuning(X_train, y_train):\n",
    "    \"\"\"\n",
    "    Performs hyperparameter tuning for a RandomForestClassifier using GridSearchCV.\n",
    "\n",
    "    Parameters:\n",
    "    X_train (pd.DataFrame or np.array): Training data features.\n",
    "    y_train (pd.Series or np.array): Training data labels.\n",
    "\n",
    "    Returns:\n",
    "    dict: Best hyperparameters found during the grid search.\n",
    "    \"\"\"\n",
    "\n",
    "    param_distributions = {\n",
    "        'n_estimators': [2, 3, 5, 8, 10],\n",
    "        'max_depth': [2, 3, 5, 7, 8, 10],\n",
    "        'min_samples_split': [2, 3, 4, 5],\n",
    "        'min_samples_leaf': [1, 2, 4],\n",
    "    }\n",
    "\n",
    "    model = RandomForestClassifier(random_state=42)\n",
    "    search = GridSearchCV(estimator=model, param_grid=param_distributions, n_jobs=-1, verbose=3)\n",
    "    search.fit(X_train, y_train)\n",
    "\n",
    "    return search.best_params_\n",
    "\n",
    "\n",
    "def train_model(X_train, y_train, best_params):\n",
    "    \"\"\"\n",
    "    Trains a RandomForestClassifier with the best hyperparameters.\n",
    "\n",
    "    Parameters:\n",
    "    X_train (pd.DataFrame or np.array): Training data features.\n",
    "    y_train (pd.Series or np.array): Training data labels.\n",
    "    best_params (dict): Dictionary of best hyperparameters for the model.\n",
    "\n",
    "    Returns:\n",
    "    RandomForestClassifier: The trained RandomForestClassifier model.\n",
    "    \"\"\"\n",
    "\n",
    "    final_model = RandomForestClassifier(**best_params)\n",
    "    final_model.fit(X_train, y_train)\n",
    "\n",
    "    return final_model\n",
    "\n",
    "\n",
    "def evaluate_model(model, X_test, y_test):\n",
    "    \"\"\"\n",
    "    Evaluates a trained model on the test data.\n",
    "\n",
    "    Parameters:\n",
    "    model (RandomForestClassifier): The trained model to be evaluated.\n",
    "    X_test (pd.DataFrame or np.array): Test data features.\n",
    "    y_test (pd.Series or np.array): Test data labels.\n",
    "\n",
    "    Returns:\n",
    "    None\n",
    "    \"\"\"\n",
    "\n",
    "    y_pred = model.predict(X_test)\n",
    "    print(\"Accuracy: \", accuracy_score(y_test, y_pred))\n",
    "    print(\"Classification Report: \\n\", classification_report(y_test, y_pred))"
   ]
  },
  {
   "cell_type": "code",
   "execution_count": 10,
   "metadata": {
    "ExecuteTime": {
     "end_time": "2024-06-17T15:53:22.127332Z",
     "start_time": "2024-06-17T15:53:22.108114Z"
    },
    "id": "ywW0CEAVnIg-"
   },
   "outputs": [],
   "source": [
    "def cluster_songs(df_assign, num_clusters=100):\n",
    "    \"\"\"\n",
    "    Clusters songs based on their features and genres.\n",
    "\n",
    "    - Selects relevant features ('popularity', 'energy', 'tempo', 'valence', 'danceability', 'loudness') for clustering.\n",
    "    - One-hot encodes the 'track_genre' column.\n",
    "    - Combines the encoded genres with other song features.\n",
    "    - Scales the combined features.\n",
    "    - Performs KMeans clustering on the scaled features.\n",
    "    - Assigns cluster labels to the original DataFrame.\n",
    "\n",
    "    Parameters:\n",
    "    df_assign (pd.DataFrame): DataFrame containing song data with columns ['track_id', 'track_name', 'artists', 'track_genre', 'popularity', 'energy', 'tempo', 'valence', 'danceability', 'loudness'].\n",
    "    num_clusters (int): Number of clusters to form.\n",
    "\n",
    "    Returns:\n",
    "    pd.DataFrame: DataFrame with an additional 'cluster' column indicating the assigned cluster for each song.\n",
    "    KMeans: Fitted KMeans model.\n",
    "    \"\"\"\n",
    "\n",
    "    df_assign_used = df_assign[['popularity', 'energy', 'tempo', 'valence', 'danceability', 'loudness']]\n",
    "\n",
    "    # One-hot encode 'track_genre'\n",
    "    encoder = OneHotEncoder()\n",
    "    encoded_genres = encoder.fit_transform(df_assign[['track_genre']])\n",
    "\n",
    "    # Convert to DataFrame\n",
    "    encoded_genres_df = pd.DataFrame(encoded_genres.toarray(), columns=encoder.get_feature_names_out(['track_genre']))\n",
    "\n",
    "    # Combine with other song features\n",
    "    song_features = pd.concat([df_assign_used.reset_index(drop=True), encoded_genres_df.reset_index(drop=True)], axis=1)\n",
    "\n",
    "    # Scale the data\n",
    "    scaler = StandardScaler()\n",
    "    scaled_song_features = scaler.fit_transform(song_features)\n",
    "\n",
    "    kmeans = KMeans(n_clusters=num_clusters, random_state=42)\n",
    "    df_assign['cluster'] = kmeans.fit_predict(scaled_song_features)\n",
    "    return df_assign, kmeans\n"
   ]
  },
  {
   "cell_type": "markdown",
   "metadata": {
    "id": "VYXpQUQtpKy1"
   },
   "source": [
    "## Hyperparameter Tuning"
   ]
  },
  {
   "cell_type": "code",
   "execution_count": 13,
   "metadata": {
    "ExecuteTime": {
     "end_time": "2024-06-17T15:54:17.426402Z",
     "start_time": "2024-06-17T15:54:05.335147Z"
    },
    "colab": {
     "base_uri": "https://localhost:8080/"
    },
    "id": "Sx9QUPxBDYZh",
    "outputId": "32e5adb3-4618-4ed0-a9a4-7e5db060cfa9"
   },
   "outputs": [
    {
     "name": "stdout",
     "output_type": "stream",
     "text": [
      "Fitting 5 folds for each of 360 candidates, totalling 1800 fits\n",
      "{'max_depth': 5, 'min_samples_leaf': 1, 'min_samples_split': 2, 'n_estimators': 5}\n"
     ]
    }
   ],
   "source": [
    "# Hyperparameter Tuning\n",
    "\n",
    "def hyperparameter_train():\n",
    "    \"\"\"\n",
    "    hyperparameter_train function for hyperparameter tuning.\n",
    "\n",
    "    - Loads and cleans the music dataset.\n",
    "    - Assigns intensity to songs based on genre, tempo, and energy.\n",
    "    - Preprocesses fitness data.\n",
    "    - Splits the data into training and test sets.\n",
    "    - Scales the features.\n",
    "    - Performs hyperparameter tuning for a RandomForestClassifier.\n",
    "    - Prints the best hyperparameters found.\n",
    "\n",
    "    Returns:\n",
    "    None\n",
    "    \"\"\"\n",
    "\n",
    "    # Load and clean datasets\n",
    "    music_data_path = 'dataset/maharshipandya-spotify-tracks-dataset/dataset.csv'\n",
    "\n",
    "    df_music = load_and_clean_music_data(music_data_path)\n",
    "    genre_to_intensity = load_genre_to_intensity('model/genre_to_intensity.json')\n",
    "    df_music['intensity'] = df_music.apply(lambda row: assign_intensity(row, genre_to_intensity), axis=1)\n",
    "    df_music.dropna(subset=['intensity'], inplace=True)\n",
    "    df_music['intensity'] = df_music['intensity'].apply(lambda x: set(x))\n",
    "\n",
    "    df_all = preprocess_fitness_data(df_fitness)\n",
    "\n",
    "    X = df_all[['HR']]\n",
    "    y = df_all['Intensity']\n",
    "    X_train, X_test, y_train, y_test = train_test_split(X, y, test_size=0.2, random_state=42)\n",
    "    scaler, X_train_scaled, X_test_scaled = feature_scaling(X_train, X_test)\n",
    "\n",
    "    model = hyperparameter_tuning(X_train_scaled, y_train)\n",
    "    print(model)\n",
    "\n",
    "if __name__ == \"__main__\":\n",
    "    hyperparameter_train()\n"
   ]
  },
  {
   "cell_type": "markdown",
   "metadata": {
    "id": "nVWtWKDlpRrF"
   },
   "source": [
    "## Training Execution"
   ]
  },
  {
   "cell_type": "code",
   "execution_count": 14,
   "metadata": {
    "ExecuteTime": {
     "end_time": "2024-06-17T15:54:34.216484Z",
     "start_time": "2024-06-17T15:54:30.274921Z"
    },
    "colab": {
     "base_uri": "https://localhost:8080/"
    },
    "id": "qLQ6cERQnBkU",
    "outputId": "726efb68-b310-45dc-e438-20854436b4b1"
   },
   "outputs": [
    {
     "name": "stdout",
     "output_type": "stream",
     "text": [
      "Accuracy:  0.6127730294396961\n",
      "Classification Report: \n",
      "               precision    recall  f1-score   support\n",
      "\n",
      "           0       0.76      0.76      0.76      1049\n",
      "           1       0.50      0.47      0.48      1102\n",
      "           2       0.48      0.49      0.48      1015\n",
      "           3       0.70      0.74      0.72      1046\n",
      "\n",
      "    accuracy                           0.61      4212\n",
      "   macro avg       0.61      0.61      0.61      4212\n",
      "weighted avg       0.61      0.61      0.61      4212\n",
      "\n"
     ]
    },
    {
     "name": "stderr",
     "output_type": "stream",
     "text": [
      "C:\\Users\\doubl\\PycharmProjects\\Simulasi Ujian TensorFlow Developer Certificate\\.venv\\lib\\site-packages\\sklearn\\cluster\\_kmeans.py:1416: FutureWarning: The default value of `n_init` will change from 10 to 'auto' in 1.4. Set the value of `n_init` explicitly to suppress the warning\n",
      "  super()._check_params_vs_input(X, default_n_init=10)\n"
     ]
    }
   ],
   "source": [
    "# Training Execution\n",
    "\n",
    "def model_train():\n",
    "    \"\"\"\n",
    "    model_train function for training execution.\n",
    "\n",
    "    - Loads and cleans the music dataset.\n",
    "    - Assigns intensity to songs based on genre, tempo, and energy.\n",
    "    - Preprocesses fitness data.\n",
    "    - Splits the data into training and test sets.\n",
    "    - Scales the features.\n",
    "    - Trains a RandomForestClassifier with the best hyperparameters.\n",
    "    - Evaluates the trained model on the test set.\n",
    "    - Saves the trained model and scaler.\n",
    "    - Clusters the songs using KMeans.\n",
    "    - Saves the clustered songs and the KMeans model.\n",
    "\n",
    "    Returns:\n",
    "    None\n",
    "    \"\"\"\n",
    "\n",
    "    # Load and clean datasets\n",
    "    music_data_path = 'dataset/maharshipandya-spotify-tracks-dataset/dataset.csv'\n",
    "\n",
    "    df_music = load_and_clean_music_data(music_data_path)\n",
    "    genre_to_intensity = load_genre_to_intensity('model/genre_to_intensity.json')\n",
    "    df_music['intensity'] = df_music.apply(lambda row: assign_intensity(row, genre_to_intensity), axis=1)\n",
    "    df_music.dropna(subset=['intensity'], inplace=True)\n",
    "    df_music['intensity'] = df_music['intensity'].apply(lambda x: set(x))\n",
    "\n",
    "    df_all = preprocess_fitness_data(df_fitness)\n",
    "\n",
    "    X = df_all[['HR']]\n",
    "    y = df_all['Intensity']\n",
    "    X_train, X_test, y_train, y_test = train_test_split(X, y, test_size=0.2, random_state=42)\n",
    "    scaler, X_train_scaled, X_test_scaled = feature_scaling(X_train, X_test)\n",
    "\n",
    "    best_params = {'max_depth': 5, 'min_samples_leaf': 1, 'min_samples_split': 2, 'n_estimators': 5}\n",
    "    model = train_model(X_train_scaled, y_train, best_params)\n",
    "    evaluate_model(model, X_test_scaled, y_test)\n",
    "\n",
    "    # Save model and scaler\n",
    "    joblib.dump(model, 'model/final_model.pkl')\n",
    "    joblib.dump(scaler, 'model/scaler.pkl')\n",
    "\n",
    "    # Cluster songs\n",
    "    df_music, kmeans = cluster_songs(df_music, num_clusters=113)\n",
    "    df_music.to_csv('dataset/clustered_song.csv', index=True)\n",
    "    joblib.dump(kmeans, 'model/kmeans.pkl')\n",
    "\n",
    "if __name__ == \"__main__\":\n",
    "    model_train()"
   ]
  },
  {
   "cell_type": "markdown",
   "metadata": {
    "id": "3QR8432z2qMF"
   },
   "source": [
    "# Inference"
   ]
  },
  {
   "cell_type": "code",
   "execution_count": 1,
   "metadata": {
    "ExecuteTime": {
     "end_time": "2024-06-17T15:54:52.439302Z",
     "start_time": "2024-06-17T15:54:51.741815Z"
    },
    "id": "MClwguEWqarw"
   },
   "outputs": [],
   "source": [
    "import joblib\n",
    "import pandas as pd\n",
    "import json"
   ]
  },
  {
   "cell_type": "code",
   "execution_count": 2,
   "metadata": {
    "ExecuteTime": {
     "end_time": "2024-06-17T15:54:53.699440Z",
     "start_time": "2024-06-17T15:54:53.689443Z"
    },
    "id": "Xdtqk2UHqZGV"
   },
   "outputs": [],
   "source": [
    "class User:\n",
    "    \"\"\"\n",
    "    Represents a user with methods to manage liked songs and preferences.\n",
    "\n",
    "    Attributes:\n",
    "    user_id (str): The unique identifier of the user.\n",
    "    liked_songs (set): A set of track IDs representing songs the user likes.\n",
    "    \"\"\"\n",
    "    def __init__(self, user_id):\n",
    "        self.user_id = user_id\n",
    "        self.liked_songs = set()\n",
    "\n",
    "    def like_song(self, song_id):\n",
    "        self.liked_songs.add(song_id)\n",
    "\n",
    "    def get_liked_songs(self):\n",
    "        return list(self.liked_songs)\n",
    "\n",
    "    def save_preferences(self, filepath='/dataset/user_preferences.json'):\n",
    "        with open(filepath, 'w') as file:\n",
    "            json.dump({'user_id': self.user_id, 'liked_songs': list(self.liked_songs)}, file)\n",
    "\n",
    "    def load_preferences(self, filepath='/dataset/user_preferences.json'):\n",
    "        try:\n",
    "            with open(filepath, 'r') as file:\n",
    "                data = json.load(file)\n",
    "                self.liked_songs = set(data.get('liked_songs', []))\n",
    "        except FileNotFoundError:\n",
    "            pass"
   ]
  },
  {
   "cell_type": "code",
   "execution_count": 3,
   "metadata": {
    "ExecuteTime": {
     "end_time": "2024-06-17T15:54:55.151991Z",
     "start_time": "2024-06-17T15:54:55.141906Z"
    },
    "id": "DJjPqgqBqW9G"
   },
   "outputs": [],
   "source": [
    "# Recommendation System\n",
    "\n",
    "def recommend_songs(predicted_intensity, df_assign, num_songs=5, liked_songs=[], song_clusters=None):\n",
    "    \"\"\"\n",
    "    Recommends songs based on predicted intensity, with higher probability given to more\n",
    "    popular songs and songs from clusters of liked songs.\n",
    "\n",
    "    Parameters:\n",
    "    predicted_intensity (int): Desired intensity level for the recommended songs.\n",
    "    df_assign (pd.DataFrame): DataFrame containing song details (track_id, track_name, artists,\n",
    "                              track_genre, intensity, energy, popularity, etc.).\n",
    "    num_songs (int): Number of songs to recommend. Default is 5.\n",
    "    liked_songs (list): List of track IDs representing songs the user likes.\n",
    "    song_clusters (pd.DataFrame): DataFrame containing song clusters (track_id, cluster). Default is None.\n",
    "\n",
    "    Returns:\n",
    "    pd.DataFrame: DataFrame containing the recommended songs with selected details\n",
    "                  (track_id, track_name, artists, track_genre, intensity, energy, popularity, cluster).\n",
    "    \"\"\"\n",
    "\n",
    "    df_assign['intensity'] = df_assign['intensity'].apply(lambda x: {int(i) for i in x.replace('{', '').replace('}', '').split(',') if i.strip().isdigit()} if isinstance(x, str) else x)\n",
    "\n",
    "    recommended_df = df_assign[df_assign['intensity'].apply(lambda x: predicted_intensity in x)].copy()\n",
    "    if recommended_df.empty:\n",
    "        if predicted_intensity == 0:\n",
    "            recommended_df = df_assign[df_assign['intensity'].apply(lambda x: 1 in x)].copy()\n",
    "        elif predicted_intensity == 3:\n",
    "            recommended_df = df_assign[df_assign['intensity'].apply(lambda x: 2 in x)].copy()\n",
    "        else:\n",
    "            recommended_df = df_assign[df_assign['intensity'].apply(lambda x: (predicted_intensity - 1 in x) or (predicted_intensity + 1 in x))].copy()\n",
    "\n",
    "    recommended_df['weight'] = recommended_df['popularity'].apply(lambda pop: 1 if pop > 60 else (0.2 if 45 < pop <= 60 else 0.08))\n",
    "\n",
    "    if liked_songs:\n",
    "        if song_clusters is not None:\n",
    "            liked_song_clusters = song_clusters[song_clusters['track_id'].isin(liked_songs)]['cluster'].unique()\n",
    "            recommended_df['weight'] += recommended_df['track_id'].apply(\n",
    "                lambda x: 1 if x in song_clusters[song_clusters['cluster'].isin(liked_song_clusters)]['track_id'].values else 0\n",
    "            )\n",
    "\n",
    "        recommended_df['weight'] += recommended_df['track_id'].apply(lambda x: 0.5 if x in liked_songs else 0.2)\n",
    "\n",
    "    print(\"Weights assigned:\", recommended_df['weight'].value_counts())\n",
    "\n",
    "    if len(recommended_df) < num_songs:\n",
    "        num_songs = len(recommended_df)\n",
    "\n",
    "    recommended_songs = recommended_df.sample(n=num_songs, weights='weight')\n",
    "\n",
    "    return recommended_songs[['track_id', 'track_genre', 'intensity', 'energy', 'popularity', 'cluster']]"
   ]
  },
  {
   "cell_type": "code",
   "execution_count": 4,
   "metadata": {
    "ExecuteTime": {
     "end_time": "2024-06-17T15:54:57.591899Z",
     "start_time": "2024-06-17T15:54:56.616131Z"
    },
    "colab": {
     "base_uri": "https://localhost:8080/"
    },
    "id": "OsiPqQwl0Ntb",
    "outputId": "8d1389e4-8113-4eb1-dc33-4d9d4f54f856"
   },
   "outputs": [
    {
     "name": "stdout",
     "output_type": "stream",
     "text": [
      "Weights assigned: weight\n",
      "0.08    3244\n",
      "0.20     996\n",
      "1.00     877\n",
      "Name: count, dtype: int64\n",
      "{'track_id': 14330    0LiXd8DgPozcJVQq3QceEh\n",
      "13622    7EsjkelQuoUlJXEw7SeVV4\n",
      "23       5MYPzdIWgx3pMLRGlq2fVq\n",
      "Name: track_id, dtype: object, 'track_genre': 14330    synth-pop\n",
      "13622         soul\n",
      "23        acoustic\n",
      "Name: track_genre, dtype: object, 'intensity': 14330       {1}\n",
      "13622    {1, 2}\n",
      "23          {1}\n",
      "Name: intensity, dtype: object, 'energy': 14330    0.869\n",
      "13622    0.901\n",
      "23       0.768\n",
      "Name: energy, dtype: float64, 'popularity': 14330    46\n",
      "13622    69\n",
      "23       73\n",
      "Name: popularity, dtype: int64, 'cluster': 14330    22\n",
      "13622    51\n",
      "23       43\n",
      "Name: cluster, dtype: int64}\n",
      "Recommended Track IDs: ['0LiXd8DgPozcJVQq3QceEh', '7EsjkelQuoUlJXEw7SeVV4', '5MYPzdIWgx3pMLRGlq2fVq']\n"
     ]
    }
   ],
   "source": [
    "# Main Execution\n",
    "\n",
    "def inference():\n",
    "    \"\"\"\n",
    "    Inference execution function for the music recommendation system.\n",
    "\n",
    "    - Loads the pre-trained scaler and model.\n",
    "    - Reads the clustered music dataset.\n",
    "    - Creates a User object and loads user preferences.\n",
    "    - Predicts the intensity level based on a given heart rate.\n",
    "    - Recommends songs based on the predicted intensity, user's liked songs, and song clusters.\n",
    "    - Prints the recommended songs and their track IDs.\n",
    "    - Simulates the user liking a song and saves the updated preferences.\n",
    "\n",
    "    Returns:\n",
    "    None\n",
    "    \"\"\"\n",
    "\n",
    "    # Load the pre-trained scaler and model\n",
    "    scaler = joblib.load('model/scaler.pkl')\n",
    "    model = joblib.load('model/final_model.pkl')\n",
    "    df_music = pd.read_csv('dataset/clustered_song.csv')\n",
    "\n",
    "\n",
    "    # Create a User\n",
    "    user = User(user_id='user123')\n",
    "    user.load_preferences()\n",
    "\n",
    "    # Inference\n",
    "    HR = 90  # Example heart rate value\n",
    "    new_data_scaled = scaler.transform(pd.DataFrame({'HR': [HR]}))\n",
    "    predicted_intensity = model.predict(new_data_scaled)[0]\n",
    "\n",
    "    recommendations = recommend_songs(predicted_intensity, df_music,\n",
    "                                      num_songs=3, liked_songs=user.get_liked_songs(),\n",
    "                                      song_clusters=df_music[['track_id', 'cluster']])\n",
    "    # print(recommendations)\n",
    "    response = recommendations.to_dict(orient='series')\n",
    "    print(response)\n",
    "\n",
    "    # Extract and print only track IDs\n",
    "    track_ids = recommendations['track_id'].tolist()\n",
    "    print(\"Recommended Track IDs:\", track_ids)\n",
    "\n",
    "    # Simulate user liking a song\n",
    "    # liked_song_id = recommendations.iloc[0]['track_id']\n",
    "    # user.like_song(liked_song_id)\n",
    "    # user.save_preferences()\n",
    "\n",
    "if __name__ == \"__main__\":\n",
    "    inference()"
   ]
  },
  {
   "cell_type": "markdown",
   "metadata": {
    "id": "-4hQ_c6f15IZ"
   },
   "source": [
    "# Determine Cluster Size (dont run it, unless needed)\n",
    "\n",
    "Need appox, 30 mins to run. Use GPU."
   ]
  },
  {
   "cell_type": "code",
   "execution_count": 1,
   "metadata": {
    "colab": {
     "base_uri": "https://localhost:8080/"
    },
    "id": "FRT5EeYYPoek",
    "outputId": "b5cda052-fab6-485d-c91c-ab75acfb5b1b"
   },
   "outputs": [
    {
     "name": "stdout",
     "output_type": "stream",
     "text": [
      "Cloning into 'rapidsai-csp-utils'...\n",
      "remote: Enumerating objects: 485, done.\u001b[K\n",
      "remote: Counting objects: 100% (216/216), done.\u001b[K\n",
      "remote: Compressing objects: 100% (125/125), done.\u001b[K\n",
      "remote: Total 485 (delta 146), reused 124 (delta 91), pack-reused 269\u001b[K\n",
      "Receiving objects: 100% (485/485), 134.51 KiB | 815.00 KiB/s, done.\n",
      "Resolving deltas: 100% (248/248), done.\n",
      "Collecting pynvml\n",
      "  Downloading pynvml-11.5.0-py3-none-any.whl (53 kB)\n",
      "     ━━━━━━━━━━━━━━━━━━━━━━━━━━━━━━━━━━━━━━━━ 53.1/53.1 kB 893.7 kB/s eta 0:00:00\n",
      "Installing collected packages: pynvml\n",
      "Successfully installed pynvml-11.5.0\n",
      "***********************************************************************\n",
      "Woo! Your instance has a Tesla T4 GPU!\n",
      "We will install the latest stable RAPIDS via pip 24.4.*!  Please stand by, should be quick...\n",
      "***********************************************************************\n",
      "\n",
      "Looking in indexes: https://pypi.org/simple, https://pypi.nvidia.com\n",
      "Collecting cuml-cu12==24.4.*\n",
      "  Downloading https://pypi.nvidia.com/cuml-cu12/cuml_cu12-24.4.0-cp310-cp310-manylinux_2_17_x86_64.manylinux2014_x86_64.whl (1200.7 MB)\n",
      "     ━━━━━━━━━━━━━━━━━━━━━━━━━━━━━━━━━━━━━━━━ 1.2/1.2 GB 1.2 MB/s eta 0:00:00\n",
      "Collecting cugraph-cu12==24.4.*\n",
      "  Downloading https://pypi.nvidia.com/cugraph-cu12/cugraph_cu12-24.4.0-cp310-cp310-manylinux_2_17_x86_64.manylinux2014_x86_64.whl (1429.1 MB)\n",
      "     ━━━━━━━━━━━━━━━━━━━━━━━━━━━━━━━━━━━━━━━━ 1.4/1.4 GB 879.4 kB/s eta 0:00:00\n",
      "Collecting cuspatial-cu12==24.4.*\n",
      "  Downloading https://pypi.nvidia.com/cuspatial-cu12/cuspatial_cu12-24.4.0-cp310-cp310-manylinux_2_17_x86_64.manylinux2014_x86_64.whl (137.8 MB)\n",
      "     ━━━━━━━━━━━━━━━━━━━━━━━━━━━━━━━━━━━━━━━━ 137.8/137.8 MB 7.8 MB/s eta 0:00:00\n",
      "Collecting cuproj-cu12==24.4.*\n",
      "  Downloading https://pypi.nvidia.com/cuproj-cu12/cuproj_cu12-24.4.0-cp310-cp310-manylinux_2_17_x86_64.manylinux2014_x86_64.whl (920 kB)\n",
      "     ━━━━━━━━━━━━━━━━━━━━━━━━━━━━━━━━━━━━━━━━ 920.9/920.9 kB 61.0 MB/s eta 0:00:00\n",
      "Collecting cuxfilter-cu12==24.4.*\n",
      "  Downloading https://pypi.nvidia.com/cuxfilter-cu12/cuxfilter_cu12-24.4.1-py3-none-any.whl (83 kB)\n",
      "     ━━━━━━━━━━━━━━━━━━━━━━━━━━━━━━━━━━━━━━━━ 83.5/83.5 kB 12.8 MB/s eta 0:00:00\n",
      "Collecting cucim-cu12==24.4.*\n",
      "  Downloading https://pypi.nvidia.com/cucim-cu12/cucim_cu12-24.4.0-cp310-cp310-manylinux_2_17_x86_64.manylinux2014_x86_64.whl (5.8 MB)\n",
      "     ━━━━━━━━━━━━━━━━━━━━━━━━━━━━━━━━━━━━━━━━ 5.8/5.8 MB 97.1 MB/s eta 0:00:00\n",
      "Collecting pylibraft-cu12==24.4.*\n",
      "  Downloading https://pypi.nvidia.com/pylibraft-cu12/pylibraft_cu12-24.4.0-cp310-cp310-manylinux_2_17_x86_64.manylinux2014_x86_64.whl (823.0 MB)\n",
      "     ━━━━━━━━━━━━━━━━━━━━━━━━━━━━━━━━━━━━━━━━ 823.0/823.0 MB 1.5 MB/s eta 0:00:00\n",
      "Collecting raft-dask-cu12==24.4.*\n",
      "  Downloading https://pypi.nvidia.com/raft-dask-cu12/raft_dask_cu12-24.4.0-cp310-cp310-manylinux_2_17_x86_64.manylinux2014_x86_64.whl (170.1 MB)\n",
      "     ━━━━━━━━━━━━━━━━━━━━━━━━━━━━━━━━━━━━━━━━ 170.1/170.1 MB 7.0 MB/s eta 0:00:00\n",
      "Requirement already satisfied: aiohttp in /usr/local/lib/python3.10/dist-packages (3.9.5)\n",
      "Requirement already satisfied: cudf-cu12==24.4.* in /usr/local/lib/python3.10/dist-packages (from cuml-cu12==24.4.*) (24.4.1)\n",
      "Requirement already satisfied: cupy-cuda12x>=12.0.0 in /usr/local/lib/python3.10/dist-packages (from cuml-cu12==24.4.*) (12.2.0)\n",
      "Collecting dask-cuda==24.4.* (from cuml-cu12==24.4.*)\n",
      "  Downloading dask_cuda-24.4.0-py3-none-any.whl (126 kB)\n",
      "     ━━━━━━━━━━━━━━━━━━━━━━━━━━━━━━━━━━━━━━━━ 126.6/126.6 kB 3.9 MB/s eta 0:00:00\n",
      "Collecting dask-cudf-cu12==24.4.* (from cuml-cu12==24.4.*)\n",
      "  Downloading https://pypi.nvidia.com/dask-cudf-cu12/dask_cudf_cu12-24.4.1-py3-none-any.whl (48 kB)\n",
      "     ━━━━━━━━━━━━━━━━━━━━━━━━━━━━━━━━━━━━━━━━ 48.9/48.9 kB 7.7 MB/s eta 0:00:00\n",
      "Requirement already satisfied: joblib>=0.11 in /usr/local/lib/python3.10/dist-packages (from cuml-cu12==24.4.*) (1.4.2)\n",
      "Requirement already satisfied: numba>=0.57 in /usr/local/lib/python3.10/dist-packages (from cuml-cu12==24.4.*) (0.58.1)\n",
      "Collecting rapids-dask-dependency==24.4.* (from cuml-cu12==24.4.*)\n",
      "  Downloading https://pypi.nvidia.com/rapids-dask-dependency/rapids_dask_dependency-24.4.1-py3-none-any.whl (15 kB)\n",
      "Requirement already satisfied: rmm-cu12==24.4.* in /usr/local/lib/python3.10/dist-packages (from cuml-cu12==24.4.*) (24.4.0)\n",
      "Requirement already satisfied: scipy>=1.8.0 in /usr/local/lib/python3.10/dist-packages (from cuml-cu12==24.4.*) (1.11.4)\n",
      "Collecting treelite==4.1.2 (from cuml-cu12==24.4.*)\n",
      "  Downloading treelite-4.1.2-py3-none-manylinux2014_x86_64.whl (810 kB)\n",
      "     ━━━━━━━━━━━━━━━━━━━━━━━━━━━━━━━━━━━━━━━━ 810.9/810.9 kB 11.2 MB/s eta 0:00:00\n",
      "Requirement already satisfied: fsspec[http]>=0.6.0 in /usr/local/lib/python3.10/dist-packages (from cugraph-cu12==24.4.*) (2023.6.0)\n",
      "Requirement already satisfied: numpy<2.0a0,>=1.23 in /usr/local/lib/python3.10/dist-packages (from cugraph-cu12==24.4.*) (1.25.2)\n",
      "Collecting pylibcugraph-cu12==24.4.* (from cugraph-cu12==24.4.*)\n",
      "  Downloading https://pypi.nvidia.com/pylibcugraph-cu12/pylibcugraph_cu12-24.4.0-cp310-cp310-manylinux_2_17_x86_64.manylinux2014_x86_64.whl (1430.2 MB)\n",
      "     ━━━━━━━━━━━━━━━━━━━━━━━━━━━━━━━━━━━━━━━━ 1.4/1.4 GB 986.0 kB/s eta 0:00:00\n",
      "Collecting ucx-py-cu12==0.37.* (from cugraph-cu12==24.4.*)\n",
      "  Downloading https://pypi.nvidia.com/ucx-py-cu12/ucx_py_cu12-0.37.0-cp310-cp310-manylinux_2_17_x86_64.manylinux2014_x86_64.whl (7.7 MB)\n",
      "     ━━━━━━━━━━━━━━━━━━━━━━━━━━━━━━━━━━━━━━━━ 7.7/7.7 MB 101.8 MB/s eta 0:00:00\n",
      "Requirement already satisfied: geopandas>=0.11.0 in /usr/local/lib/python3.10/dist-packages (from cuspatial-cu12==24.4.*) (0.13.2)\n",
      "Requirement already satisfied: bokeh>=3.1 in /usr/local/lib/python3.10/dist-packages (from cuxfilter-cu12==24.4.*) (3.3.4)\n",
      "Collecting datashader>=0.15 (from cuxfilter-cu12==24.4.*)\n",
      "  Downloading datashader-0.16.2-py2.py3-none-any.whl (18.3 MB)\n",
      "     ━━━━━━━━━━━━━━━━━━━━━━━━━━━━━━━━━━━━━━━━ 18.3/18.3 MB 63.1 MB/s eta 0:00:00\n",
      "Requirement already satisfied: holoviews>=1.16.0 in /usr/local/lib/python3.10/dist-packages (from cuxfilter-cu12==24.4.*) (1.17.1)\n",
      "Collecting jupyter-server-proxy (from cuxfilter-cu12==24.4.*)\n",
      "  Downloading jupyter_server_proxy-4.2.0-py3-none-any.whl (34 kB)\n",
      "Requirement already satisfied: packaging in /usr/local/lib/python3.10/dist-packages (from cuxfilter-cu12==24.4.*) (24.1)\n",
      "Requirement already satisfied: panel>=1.0 in /usr/local/lib/python3.10/dist-packages (from cuxfilter-cu12==24.4.*) (1.3.8)\n",
      "Requirement already satisfied: click in /usr/local/lib/python3.10/dist-packages (from cucim-cu12==24.4.*) (8.1.7)\n",
      "Requirement already satisfied: lazy-loader>=0.1 in /usr/local/lib/python3.10/dist-packages (from cucim-cu12==24.4.*) (0.4)\n",
      "Requirement already satisfied: scikit-image<0.23.0a0,>=0.19.0 in /usr/local/lib/python3.10/dist-packages (from cucim-cu12==24.4.*) (0.19.3)\n",
      "Requirement already satisfied: cuda-python<13.0a0,>=12.0 in /usr/local/lib/python3.10/dist-packages (from pylibraft-cu12==24.4.*) (12.2.1)\n",
      "Requirement already satisfied: cachetools in /usr/local/lib/python3.10/dist-packages (from cudf-cu12==24.4.*->cuml-cu12==24.4.*) (5.3.3)\n",
      "Requirement already satisfied: nvtx>=0.2.1 in /usr/local/lib/python3.10/dist-packages (from cudf-cu12==24.4.*->cuml-cu12==24.4.*) (0.2.10)\n",
      "Requirement already satisfied: pandas<2.2.2dev0,>=2.0 in /usr/local/lib/python3.10/dist-packages (from cudf-cu12==24.4.*->cuml-cu12==24.4.*) (2.0.3)\n",
      "Requirement already satisfied: protobuf<5,>=3.20 in /usr/local/lib/python3.10/dist-packages (from cudf-cu12==24.4.*->cuml-cu12==24.4.*) (3.20.3)\n",
      "Requirement already satisfied: pynvjitlink-cu12 in /usr/local/lib/python3.10/dist-packages (from cudf-cu12==24.4.*->cuml-cu12==24.4.*) (0.2.3)\n",
      "Requirement already satisfied: pyarrow<15.0.0a0,>=14.0.1 in /usr/local/lib/python3.10/dist-packages (from cudf-cu12==24.4.*->cuml-cu12==24.4.*) (14.0.2)\n",
      "Requirement already satisfied: rich in /usr/local/lib/python3.10/dist-packages (from cudf-cu12==24.4.*->cuml-cu12==24.4.*) (13.7.1)\n",
      "Requirement already satisfied: typing_extensions>=4.0.0 in /usr/local/lib/python3.10/dist-packages (from cudf-cu12==24.4.*->cuml-cu12==24.4.*) (4.12.2)\n",
      "Collecting pynvml<11.5,>=11.0.0 (from dask-cuda==24.4.*->cuml-cu12==24.4.*)\n",
      "  Downloading pynvml-11.4.1-py3-none-any.whl (46 kB)\n",
      "     ━━━━━━━━━━━━━━━━━━━━━━━━━━━━━━━━━━━━━━━━ 47.0/47.0 kB 7.4 MB/s eta 0:00:00\n",
      "Requirement already satisfied: zict>=2.0.0 in /usr/local/lib/python3.10/dist-packages (from dask-cuda==24.4.*->cuml-cu12==24.4.*) (3.0.0)\n",
      "Collecting dask==2024.1.1 (from rapids-dask-dependency==24.4.*->cuml-cu12==24.4.*)\n",
      "  Downloading dask-2024.1.1-py3-none-any.whl (1.2 MB)\n",
      "     ━━━━━━━━━━━━━━━━━━━━━━━━━━━━━━━━━━━━━━━━ 1.2/1.2 MB 64.5 MB/s eta 0:00:00\n",
      "Collecting distributed==2024.1.1 (from rapids-dask-dependency==24.4.*->cuml-cu12==24.4.*)\n",
      "  Downloading distributed-2024.1.1-py3-none-any.whl (1.0 MB)\n",
      "     ━━━━━━━━━━━━━━━━━━━━━━━━━━━━━━━━━━━━━━━━ 1.0/1.0 MB 62.7 MB/s eta 0:00:00\n",
      "Collecting dask-expr==0.4.0 (from rapids-dask-dependency==24.4.*->cuml-cu12==24.4.*)\n",
      "  Downloading dask_expr-0.4.0-py3-none-any.whl (161 kB)\n",
      "     ━━━━━━━━━━━━━━━━━━━━━━━━━━━━━━━━━━━━━━━━ 161.7/161.7 kB 14.3 MB/s eta 0:00:00\n",
      "Requirement already satisfied: cloudpickle>=1.5.0 in /usr/local/lib/python3.10/dist-packages (from dask==2024.1.1->rapids-dask-dependency==24.4.*->cuml-cu12==24.4.*) (2.2.1)\n",
      "Requirement already satisfied: partd>=1.2.0 in /usr/local/lib/python3.10/dist-packages (from dask==2024.1.1->rapids-dask-dependency==24.4.*->cuml-cu12==24.4.*) (1.4.2)\n",
      "Requirement already satisfied: pyyaml>=5.3.1 in /usr/local/lib/python3.10/dist-packages (from dask==2024.1.1->rapids-dask-dependency==24.4.*->cuml-cu12==24.4.*) (6.0.1)\n",
      "Requirement already satisfied: toolz>=0.10.0 in /usr/local/lib/python3.10/dist-packages (from dask==2024.1.1->rapids-dask-dependency==24.4.*->cuml-cu12==24.4.*) (0.12.1)\n",
      "Requirement already satisfied: importlib-metadata>=4.13.0 in /usr/local/lib/python3.10/dist-packages (from dask==2024.1.1->rapids-dask-dependency==24.4.*->cuml-cu12==24.4.*) (7.1.0)\n",
      "Requirement already satisfied: jinja2>=2.10.3 in /usr/local/lib/python3.10/dist-packages (from distributed==2024.1.1->rapids-dask-dependency==24.4.*->cuml-cu12==24.4.*) (3.1.4)\n",
      "Requirement already satisfied: locket>=1.0.0 in /usr/local/lib/python3.10/dist-packages (from distributed==2024.1.1->rapids-dask-dependency==24.4.*->cuml-cu12==24.4.*) (1.0.0)\n",
      "Requirement already satisfied: msgpack>=1.0.0 in /usr/local/lib/python3.10/dist-packages (from distributed==2024.1.1->rapids-dask-dependency==24.4.*->cuml-cu12==24.4.*) (1.0.8)\n",
      "Requirement already satisfied: psutil>=5.7.2 in /usr/local/lib/python3.10/dist-packages (from distributed==2024.1.1->rapids-dask-dependency==24.4.*->cuml-cu12==24.4.*) (5.9.5)\n",
      "Requirement already satisfied: sortedcontainers>=2.0.5 in /usr/local/lib/python3.10/dist-packages (from distributed==2024.1.1->rapids-dask-dependency==24.4.*->cuml-cu12==24.4.*) (2.4.0)\n",
      "Requirement already satisfied: tblib>=1.6.0 in /usr/local/lib/python3.10/dist-packages (from distributed==2024.1.1->rapids-dask-dependency==24.4.*->cuml-cu12==24.4.*) (3.0.0)\n",
      "Requirement already satisfied: tornado>=6.0.4 in /usr/local/lib/python3.10/dist-packages (from distributed==2024.1.1->rapids-dask-dependency==24.4.*->cuml-cu12==24.4.*) (6.3.3)\n",
      "Requirement already satisfied: urllib3>=1.24.3 in /usr/local/lib/python3.10/dist-packages (from distributed==2024.1.1->rapids-dask-dependency==24.4.*->cuml-cu12==24.4.*) (2.0.7)\n",
      "Requirement already satisfied: aiosignal>=1.1.2 in /usr/local/lib/python3.10/dist-packages (from aiohttp) (1.3.1)\n",
      "Requirement already satisfied: attrs>=17.3.0 in /usr/local/lib/python3.10/dist-packages (from aiohttp) (23.2.0)\n",
      "Requirement already satisfied: frozenlist>=1.1.1 in /usr/local/lib/python3.10/dist-packages (from aiohttp) (1.4.1)\n",
      "Requirement already satisfied: multidict<7.0,>=4.5 in /usr/local/lib/python3.10/dist-packages (from aiohttp) (6.0.5)\n",
      "Requirement already satisfied: yarl<2.0,>=1.0 in /usr/local/lib/python3.10/dist-packages (from aiohttp) (1.9.4)\n",
      "Requirement already satisfied: async-timeout<5.0,>=4.0 in /usr/local/lib/python3.10/dist-packages (from aiohttp) (4.0.3)\n",
      "Requirement already satisfied: contourpy>=1 in /usr/local/lib/python3.10/dist-packages (from bokeh>=3.1->cuxfilter-cu12==24.4.*) (1.2.1)\n",
      "Requirement already satisfied: pillow>=7.1.0 in /usr/local/lib/python3.10/dist-packages (from bokeh>=3.1->cuxfilter-cu12==24.4.*) (9.4.0)\n",
      "Requirement already satisfied: xyzservices>=2021.09.1 in /usr/local/lib/python3.10/dist-packages (from bokeh>=3.1->cuxfilter-cu12==24.4.*) (2024.6.0)\n",
      "Requirement already satisfied: cython in /usr/local/lib/python3.10/dist-packages (from cuda-python<13.0a0,>=12.0->pylibraft-cu12==24.4.*) (3.0.10)\n",
      "Requirement already satisfied: fastrlock>=0.5 in /usr/local/lib/python3.10/dist-packages (from cupy-cuda12x>=12.0.0->cuml-cu12==24.4.*) (0.8.2)\n",
      "Requirement already satisfied: colorcet in /usr/local/lib/python3.10/dist-packages (from datashader>=0.15->cuxfilter-cu12==24.4.*) (3.1.0)\n",
      "Requirement already satisfied: multipledispatch in /usr/local/lib/python3.10/dist-packages (from datashader>=0.15->cuxfilter-cu12==24.4.*) (1.0.0)\n",
      "Requirement already satisfied: param in /usr/local/lib/python3.10/dist-packages (from datashader>=0.15->cuxfilter-cu12==24.4.*) (2.1.0)\n",
      "Collecting pyct (from datashader>=0.15->cuxfilter-cu12==24.4.*)\n",
      "  Downloading pyct-0.5.0-py2.py3-none-any.whl (15 kB)\n",
      "Requirement already satisfied: requests in /usr/local/lib/python3.10/dist-packages (from datashader>=0.15->cuxfilter-cu12==24.4.*) (2.31.0)\n",
      "Requirement already satisfied: xarray in /usr/local/lib/python3.10/dist-packages (from datashader>=0.15->cuxfilter-cu12==24.4.*) (2023.7.0)\n",
      "Requirement already satisfied: fiona>=1.8.19 in /usr/local/lib/python3.10/dist-packages (from geopandas>=0.11.0->cuspatial-cu12==24.4.*) (1.9.6)\n",
      "Requirement already satisfied: pyproj>=3.0.1 in /usr/local/lib/python3.10/dist-packages (from geopandas>=0.11.0->cuspatial-cu12==24.4.*) (3.6.1)\n",
      "Requirement already satisfied: shapely>=1.7.1 in /usr/local/lib/python3.10/dist-packages (from geopandas>=0.11.0->cuspatial-cu12==24.4.*) (2.0.4)\n",
      "Requirement already satisfied: pyviz-comms>=0.7.4 in /usr/local/lib/python3.10/dist-packages (from holoviews>=1.16.0->cuxfilter-cu12==24.4.*) (3.0.2)\n",
      "Requirement already satisfied: llvmlite<0.42,>=0.41.0dev0 in /usr/local/lib/python3.10/dist-packages (from numba>=0.57->cuml-cu12==24.4.*) (0.41.1)\n",
      "Requirement already satisfied: markdown in /usr/local/lib/python3.10/dist-packages (from panel>=1.0->cuxfilter-cu12==24.4.*) (3.6)\n",
      "Requirement already satisfied: markdown-it-py in /usr/local/lib/python3.10/dist-packages (from panel>=1.0->cuxfilter-cu12==24.4.*) (3.0.0)\n",
      "Requirement already satisfied: linkify-it-py in /usr/local/lib/python3.10/dist-packages (from panel>=1.0->cuxfilter-cu12==24.4.*) (2.0.3)\n",
      "Requirement already satisfied: mdit-py-plugins in /usr/local/lib/python3.10/dist-packages (from panel>=1.0->cuxfilter-cu12==24.4.*) (0.4.1)\n",
      "Requirement already satisfied: tqdm>=4.48.0 in /usr/local/lib/python3.10/dist-packages (from panel>=1.0->cuxfilter-cu12==24.4.*) (4.66.4)\n",
      "Requirement already satisfied: bleach in /usr/local/lib/python3.10/dist-packages (from panel>=1.0->cuxfilter-cu12==24.4.*) (6.1.0)\n",
      "Requirement already satisfied: networkx>=2.2 in /usr/local/lib/python3.10/dist-packages (from scikit-image<0.23.0a0,>=0.19.0->cucim-cu12==24.4.*) (3.3)\n",
      "Requirement already satisfied: imageio>=2.4.1 in /usr/local/lib/python3.10/dist-packages (from scikit-image<0.23.0a0,>=0.19.0->cucim-cu12==24.4.*) (2.31.6)\n",
      "Requirement already satisfied: tifffile>=2019.7.26 in /usr/local/lib/python3.10/dist-packages (from scikit-image<0.23.0a0,>=0.19.0->cucim-cu12==24.4.*) (2024.5.22)\n",
      "Requirement already satisfied: PyWavelets>=1.1.1 in /usr/local/lib/python3.10/dist-packages (from scikit-image<0.23.0a0,>=0.19.0->cucim-cu12==24.4.*) (1.6.0)\n",
      "Requirement already satisfied: idna>=2.0 in /usr/local/lib/python3.10/dist-packages (from yarl<2.0,>=1.0->aiohttp) (3.7)\n",
      "Requirement already satisfied: jupyter-server>=1.24.0 in /usr/local/lib/python3.10/dist-packages (from jupyter-server-proxy->cuxfilter-cu12==24.4.*) (1.24.0)\n",
      "Collecting simpervisor>=1.0.0 (from jupyter-server-proxy->cuxfilter-cu12==24.4.*)\n",
      "  Downloading simpervisor-1.0.0-py3-none-any.whl (8.3 kB)\n",
      "Requirement already satisfied: traitlets>=5.1.0 in /usr/local/lib/python3.10/dist-packages (from jupyter-server-proxy->cuxfilter-cu12==24.4.*) (5.7.1)\n",
      "Requirement already satisfied: certifi in /usr/local/lib/python3.10/dist-packages (from fiona>=1.8.19->geopandas>=0.11.0->cuspatial-cu12==24.4.*) (2024.6.2)\n",
      "Requirement already satisfied: click-plugins>=1.0 in /usr/local/lib/python3.10/dist-packages (from fiona>=1.8.19->geopandas>=0.11.0->cuspatial-cu12==24.4.*) (1.1.1)\n",
      "Requirement already satisfied: cligj>=0.5 in /usr/local/lib/python3.10/dist-packages (from fiona>=1.8.19->geopandas>=0.11.0->cuspatial-cu12==24.4.*) (0.7.2)\n",
      "Requirement already satisfied: six in /usr/local/lib/python3.10/dist-packages (from fiona>=1.8.19->geopandas>=0.11.0->cuspatial-cu12==24.4.*) (1.16.0)\n",
      "Requirement already satisfied: MarkupSafe>=2.0 in /usr/local/lib/python3.10/dist-packages (from jinja2>=2.10.3->distributed==2024.1.1->rapids-dask-dependency==24.4.*->cuml-cu12==24.4.*) (2.1.5)\n",
      "Requirement already satisfied: anyio<4,>=3.1.0 in /usr/local/lib/python3.10/dist-packages (from jupyter-server>=1.24.0->jupyter-server-proxy->cuxfilter-cu12==24.4.*) (3.7.1)\n",
      "Requirement already satisfied: argon2-cffi in /usr/local/lib/python3.10/dist-packages (from jupyter-server>=1.24.0->jupyter-server-proxy->cuxfilter-cu12==24.4.*) (23.1.0)\n",
      "Requirement already satisfied: jupyter-client>=6.1.12 in /usr/local/lib/python3.10/dist-packages (from jupyter-server>=1.24.0->jupyter-server-proxy->cuxfilter-cu12==24.4.*) (6.1.12)\n",
      "Requirement already satisfied: jupyter-core!=5.0.*,>=4.12 in /usr/local/lib/python3.10/dist-packages (from jupyter-server>=1.24.0->jupyter-server-proxy->cuxfilter-cu12==24.4.*) (5.7.2)\n",
      "Requirement already satisfied: nbconvert>=6.4.4 in /usr/local/lib/python3.10/dist-packages (from jupyter-server>=1.24.0->jupyter-server-proxy->cuxfilter-cu12==24.4.*) (6.5.4)\n",
      "Requirement already satisfied: nbformat>=5.2.0 in /usr/local/lib/python3.10/dist-packages (from jupyter-server>=1.24.0->jupyter-server-proxy->cuxfilter-cu12==24.4.*) (5.10.4)\n",
      "Requirement already satisfied: prometheus-client in /usr/local/lib/python3.10/dist-packages (from jupyter-server>=1.24.0->jupyter-server-proxy->cuxfilter-cu12==24.4.*) (0.20.0)\n",
      "Requirement already satisfied: pyzmq>=17 in /usr/local/lib/python3.10/dist-packages (from jupyter-server>=1.24.0->jupyter-server-proxy->cuxfilter-cu12==24.4.*) (24.0.1)\n",
      "Requirement already satisfied: Send2Trash in /usr/local/lib/python3.10/dist-packages (from jupyter-server>=1.24.0->jupyter-server-proxy->cuxfilter-cu12==24.4.*) (1.8.3)\n",
      "Requirement already satisfied: terminado>=0.8.3 in /usr/local/lib/python3.10/dist-packages (from jupyter-server>=1.24.0->jupyter-server-proxy->cuxfilter-cu12==24.4.*) (0.18.1)\n",
      "Requirement already satisfied: websocket-client in /usr/local/lib/python3.10/dist-packages (from jupyter-server>=1.24.0->jupyter-server-proxy->cuxfilter-cu12==24.4.*) (1.8.0)\n",
      "Requirement already satisfied: python-dateutil>=2.8.2 in /usr/local/lib/python3.10/dist-packages (from pandas<2.2.2dev0,>=2.0->cudf-cu12==24.4.*->cuml-cu12==24.4.*) (2.8.2)\n",
      "Requirement already satisfied: pytz>=2020.1 in /usr/local/lib/python3.10/dist-packages (from pandas<2.2.2dev0,>=2.0->cudf-cu12==24.4.*->cuml-cu12==24.4.*) (2023.4)\n",
      "Requirement already satisfied: tzdata>=2022.1 in /usr/local/lib/python3.10/dist-packages (from pandas<2.2.2dev0,>=2.0->cudf-cu12==24.4.*->cuml-cu12==24.4.*) (2024.1)\n",
      "Requirement already satisfied: webencodings in /usr/local/lib/python3.10/dist-packages (from bleach->panel>=1.0->cuxfilter-cu12==24.4.*) (0.5.1)\n",
      "Requirement already satisfied: uc-micro-py in /usr/local/lib/python3.10/dist-packages (from linkify-it-py->panel>=1.0->cuxfilter-cu12==24.4.*) (1.0.3)\n",
      "Requirement already satisfied: mdurl~=0.1 in /usr/local/lib/python3.10/dist-packages (from markdown-it-py->panel>=1.0->cuxfilter-cu12==24.4.*) (0.1.2)\n",
      "Requirement already satisfied: charset-normalizer<4,>=2 in /usr/local/lib/python3.10/dist-packages (from requests->datashader>=0.15->cuxfilter-cu12==24.4.*) (3.3.2)\n",
      "Requirement already satisfied: pygments<3.0.0,>=2.13.0 in /usr/local/lib/python3.10/dist-packages (from rich->cudf-cu12==24.4.*->cuml-cu12==24.4.*) (2.16.1)\n",
      "Requirement already satisfied: sniffio>=1.1 in /usr/local/lib/python3.10/dist-packages (from anyio<4,>=3.1.0->jupyter-server>=1.24.0->jupyter-server-proxy->cuxfilter-cu12==24.4.*) (1.3.1)\n",
      "Requirement already satisfied: exceptiongroup in /usr/local/lib/python3.10/dist-packages (from anyio<4,>=3.1.0->jupyter-server>=1.24.0->jupyter-server-proxy->cuxfilter-cu12==24.4.*) (1.2.1)\n",
      "Requirement already satisfied: zipp>=0.5 in /usr/local/lib/python3.10/dist-packages (from importlib-metadata>=4.13.0->dask==2024.1.1->rapids-dask-dependency==24.4.*->cuml-cu12==24.4.*) (3.19.2)\n",
      "Requirement already satisfied: platformdirs>=2.5 in /usr/local/lib/python3.10/dist-packages (from jupyter-core!=5.0.*,>=4.12->jupyter-server>=1.24.0->jupyter-server-proxy->cuxfilter-cu12==24.4.*) (4.2.2)\n",
      "Requirement already satisfied: lxml in /usr/local/lib/python3.10/dist-packages (from nbconvert>=6.4.4->jupyter-server>=1.24.0->jupyter-server-proxy->cuxfilter-cu12==24.4.*) (4.9.4)\n",
      "Requirement already satisfied: beautifulsoup4 in /usr/local/lib/python3.10/dist-packages (from nbconvert>=6.4.4->jupyter-server>=1.24.0->jupyter-server-proxy->cuxfilter-cu12==24.4.*) (4.12.3)\n",
      "Requirement already satisfied: defusedxml in /usr/local/lib/python3.10/dist-packages (from nbconvert>=6.4.4->jupyter-server>=1.24.0->jupyter-server-proxy->cuxfilter-cu12==24.4.*) (0.7.1)\n",
      "Requirement already satisfied: entrypoints>=0.2.2 in /usr/local/lib/python3.10/dist-packages (from nbconvert>=6.4.4->jupyter-server>=1.24.0->jupyter-server-proxy->cuxfilter-cu12==24.4.*) (0.4)\n",
      "Requirement already satisfied: jupyterlab-pygments in /usr/local/lib/python3.10/dist-packages (from nbconvert>=6.4.4->jupyter-server>=1.24.0->jupyter-server-proxy->cuxfilter-cu12==24.4.*) (0.3.0)\n",
      "Requirement already satisfied: mistune<2,>=0.8.1 in /usr/local/lib/python3.10/dist-packages (from nbconvert>=6.4.4->jupyter-server>=1.24.0->jupyter-server-proxy->cuxfilter-cu12==24.4.*) (0.8.4)\n",
      "Requirement already satisfied: nbclient>=0.5.0 in /usr/local/lib/python3.10/dist-packages (from nbconvert>=6.4.4->jupyter-server>=1.24.0->jupyter-server-proxy->cuxfilter-cu12==24.4.*) (0.10.0)\n",
      "Requirement already satisfied: pandocfilters>=1.4.1 in /usr/local/lib/python3.10/dist-packages (from nbconvert>=6.4.4->jupyter-server>=1.24.0->jupyter-server-proxy->cuxfilter-cu12==24.4.*) (1.5.1)\n",
      "Requirement already satisfied: tinycss2 in /usr/local/lib/python3.10/dist-packages (from nbconvert>=6.4.4->jupyter-server>=1.24.0->jupyter-server-proxy->cuxfilter-cu12==24.4.*) (1.3.0)\n",
      "Requirement already satisfied: fastjsonschema>=2.15 in /usr/local/lib/python3.10/dist-packages (from nbformat>=5.2.0->jupyter-server>=1.24.0->jupyter-server-proxy->cuxfilter-cu12==24.4.*) (2.19.1)\n",
      "Requirement already satisfied: jsonschema>=2.6 in /usr/local/lib/python3.10/dist-packages (from nbformat>=5.2.0->jupyter-server>=1.24.0->jupyter-server-proxy->cuxfilter-cu12==24.4.*) (4.19.2)\n",
      "Requirement already satisfied: ptyprocess in /usr/local/lib/python3.10/dist-packages (from terminado>=0.8.3->jupyter-server>=1.24.0->jupyter-server-proxy->cuxfilter-cu12==24.4.*) (0.7.0)\n",
      "Requirement already satisfied: argon2-cffi-bindings in /usr/local/lib/python3.10/dist-packages (from argon2-cffi->jupyter-server>=1.24.0->jupyter-server-proxy->cuxfilter-cu12==24.4.*) (21.2.0)\n",
      "Requirement already satisfied: jsonschema-specifications>=2023.03.6 in /usr/local/lib/python3.10/dist-packages (from jsonschema>=2.6->nbformat>=5.2.0->jupyter-server>=1.24.0->jupyter-server-proxy->cuxfilter-cu12==24.4.*) (2023.12.1)\n",
      "Requirement already satisfied: referencing>=0.28.4 in /usr/local/lib/python3.10/dist-packages (from jsonschema>=2.6->nbformat>=5.2.0->jupyter-server>=1.24.0->jupyter-server-proxy->cuxfilter-cu12==24.4.*) (0.35.1)\n",
      "Requirement already satisfied: rpds-py>=0.7.1 in /usr/local/lib/python3.10/dist-packages (from jsonschema>=2.6->nbformat>=5.2.0->jupyter-server>=1.24.0->jupyter-server-proxy->cuxfilter-cu12==24.4.*) (0.18.1)\n",
      "Requirement already satisfied: cffi>=1.0.1 in /usr/local/lib/python3.10/dist-packages (from argon2-cffi-bindings->argon2-cffi->jupyter-server>=1.24.0->jupyter-server-proxy->cuxfilter-cu12==24.4.*) (1.16.0)\n",
      "Requirement already satisfied: soupsieve>1.2 in /usr/local/lib/python3.10/dist-packages (from beautifulsoup4->nbconvert>=6.4.4->jupyter-server>=1.24.0->jupyter-server-proxy->cuxfilter-cu12==24.4.*) (2.5)\n",
      "Requirement already satisfied: pycparser in /usr/local/lib/python3.10/dist-packages (from cffi>=1.0.1->argon2-cffi-bindings->argon2-cffi->jupyter-server>=1.24.0->jupyter-server-proxy->cuxfilter-cu12==24.4.*) (2.22)\n",
      "Installing collected packages: simpervisor, pynvml, pyct, ucx-py-cu12, treelite, dask, pylibraft-cu12, distributed, dask-expr, cuproj-cu12, cucim-cu12, rapids-dask-dependency, pylibcugraph-cu12, datashader, cuspatial-cu12, dask-cudf-cu12, dask-cuda, raft-dask-cu12, cuml-cu12, cugraph-cu12, jupyter-server-proxy, cuxfilter-cu12\n",
      "  Attempting uninstall: pynvml\n",
      "    Found existing installation: pynvml 11.5.0\n",
      "    Uninstalling pynvml-11.5.0:\n",
      "      Successfully uninstalled pynvml-11.5.0\n",
      "  Attempting uninstall: dask\n",
      "    Found existing installation: dask 2023.8.1\n",
      "    Uninstalling dask-2023.8.1:\n",
      "      Successfully uninstalled dask-2023.8.1\n",
      "  Attempting uninstall: distributed\n",
      "    Found existing installation: distributed 2023.8.1\n",
      "    Uninstalling distributed-2023.8.1:\n",
      "      Successfully uninstalled distributed-2023.8.1\n",
      "Successfully installed cucim-cu12-24.4.0 cugraph-cu12-24.4.0 cuml-cu12-24.4.0 cuproj-cu12-24.4.0 cuspatial-cu12-24.4.0 cuxfilter-cu12-24.4.1 dask-2024.1.1 dask-cuda-24.4.0 dask-cudf-cu12-24.4.1 dask-expr-0.4.0 datashader-0.16.2 distributed-2024.1.1 jupyter-server-proxy-4.2.0 pyct-0.5.0 pylibcugraph-cu12-24.4.0 pylibraft-cu12-24.4.0 pynvml-11.4.1 raft-dask-cu12-24.4.0 rapids-dask-dependency-24.4.1 simpervisor-1.0.0 treelite-4.1.2 ucx-py-cu12-0.37.0\n",
      "\n",
      "        ***********************************************************************\n",
      "        The pip install of RAPIDS is complete.\n",
      "        \n",
      "        Please do not run any further installation from the conda based installation methods, as they may cause issues!\n",
      "        \n",
      "        Please ensure that you're pulling from the git repo to remain updated with the latest working install scripts.\n",
      "\n",
      "        Troubleshooting:\n",
      "            - If there is an installation failure, please check back on RAPIDSAI owned templates/notebooks to see how to update your personal files. \n",
      "            - If an installation failure persists when using the latest script, please make an issue on https://github.com/rapidsai-community/rapidsai-csp-utils\n",
      "        ***********************************************************************\n",
      "        \n"
     ]
    }
   ],
   "source": [
    "!git clone https://github.com/rapidsai/rapidsai-csp-utils.git\n",
    "!python rapidsai-csp-utils/colab/pip-install.py"
   ]
  },
  {
   "cell_type": "code",
   "execution_count": 5,
   "metadata": {
    "colab": {
     "base_uri": "https://localhost:8080/",
     "height": 1000
    },
    "id": "-poDo2ruPh60",
    "outputId": "e4a3a62b-1bcc-4837-a849-742dc3a43c7d"
   },
   "outputs": [
    {
     "name": "stdout",
     "output_type": "stream",
     "text": [
      "<class 'pandas.core.frame.DataFrame'>\n",
      "Index: 89741 entries, 0 to 113999\n",
      "Data columns (total 6 columns):\n",
      " #   Column        Non-Null Count  Dtype  \n",
      "---  ------        --------------  -----  \n",
      " 0   popularity    89741 non-null  int64  \n",
      " 1   energy        89741 non-null  float64\n",
      " 2   tempo         89741 non-null  float64\n",
      " 3   valence       89741 non-null  float64\n",
      " 4   danceability  89741 non-null  float64\n",
      " 5   loudness      89741 non-null  float64\n",
      "dtypes: float64(5), int64(1)\n",
      "memory usage: 4.8 MB\n",
      "<class 'pandas.core.frame.DataFrame'>\n",
      "RangeIndex: 89741 entries, 0 to 89740\n",
      "Columns: 119 entries, popularity to track_genre_world-music\n",
      "dtypes: float64(118), int64(1)\n",
      "memory usage: 81.5 MB\n"
     ]
    },
    {
     "data": {
      "image/png": "[encoded data removed]",
      "text/plain": [
       "<Figure size 800x400 with 1 Axes>"
      ]
     },
     "metadata": {},
     "output_type": "display_data"
    },
    {
     "data": {
      "image/png": "[encoded data removed]",
      "text/plain": [
       "<Figure size 800x400 with 1 Axes>"
      ]
     },
     "metadata": {},
     "output_type": "display_data"
    }
   ],
   "source": [
    "import matplotlib.pyplot as plt\n",
    "from cuml.cluster import KMeans as cuKMeans  # GPU-accelerated KMeans\n",
    "from cuml.metrics.cluster import silhouette_score as cuSilhouetteScore  # GPU-accelerated silhouette score\n",
    "from sklearn.preprocessing import StandardScaler, OneHotEncoder\n",
    "import pandas as pd\n",
    "\n",
    "def elbow_method(data, max_clusters=150, step=5, start=1):\n",
    "    inertia = []\n",
    "    cluster_range = range(start, max_clusters + 1, step)\n",
    "    for n_clusters in cluster_range:\n",
    "        kmeans = cuKMeans(n_clusters=n_clusters, random_state=42)\n",
    "        kmeans.fit(data)\n",
    "        inertia.append(kmeans.inertia_)\n",
    "\n",
    "    plt.figure(figsize=(8, 4))\n",
    "    plt.plot(cluster_range, inertia, marker='o')\n",
    "    plt.title('Elbow Method')\n",
    "    plt.xlabel('Number of clusters')\n",
    "    plt.ylabel('Inertia')\n",
    "    plt.show()\n",
    "\n",
    "def silhouette_analysis(data, max_clusters=150, step=5, start=1):\n",
    "    silhouette_scores = []\n",
    "    cluster_range = range(start+1, max_clusters + 1, step)\n",
    "    for n_clusters in cluster_range:\n",
    "        kmeans = cuKMeans(n_clusters=n_clusters, random_state=42)\n",
    "        cluster_labels = kmeans.fit_predict(data)\n",
    "        silhouette_avg = cuSilhouetteScore(data, cluster_labels)\n",
    "        silhouette_scores.append(silhouette_avg)\n",
    "\n",
    "    plt.figure(figsize=(8, 4))\n",
    "    plt.plot(cluster_range, silhouette_scores, marker='o')\n",
    "    plt.title('Silhouette Analysis')\n",
    "    plt.xlabel('Number of clusters')\n",
    "    plt.ylabel('Silhouette Score')\n",
    "    plt.show()\n",
    "\n",
    "# Load your music dataset\n",
    "music_data_path = '/dataset/maharshipandya-spotify-tracks-dataset/dataset.csv'\n",
    "df_music = pd.read_csv(music_data_path)\n",
    "df_music.drop_duplicates(subset=['track_id'], inplace=True)\n",
    "df_music_used = df_music[['popularity', 'energy', 'tempo', 'valence', 'danceability', 'loudness']]\n",
    "df_music_used.info()\n",
    "\n",
    "# One-hot encode 'track_genre'\n",
    "encoder = OneHotEncoder()\n",
    "encoded_genres = encoder.fit_transform(df_music[['track_genre']])\n",
    "\n",
    "# Convert to DataFrame\n",
    "encoded_genres_df = pd.DataFrame(encoded_genres.toarray(), columns=encoder.get_feature_names_out(['track_genre']))\n",
    "\n",
    "# Combine with other song features\n",
    "song_features = pd.concat([df_music_used.reset_index(drop=True), encoded_genres_df.reset_index(drop=True)], axis=1)\n",
    "song_features.info()\n",
    "\n",
    "# Scale the data\n",
    "scaler = StandardScaler()\n",
    "scaled_song_features = scaler.fit_transform(song_features)\n",
    "\n",
    "\n",
    "elbow_method(scaled_song_features, 150, 5, 1)\n",
    "silhouette_analysis(scaled_song_features, 150, 5, 1)\n"
   ]
  },
  {
   "cell_type": "code",
   "execution_count": 6,
   "metadata": {
    "colab": {
     "base_uri": "https://localhost:8080/",
     "height": 803
    },
    "id": "S9hRFBLSPjJ7",
    "outputId": "607f758b-334b-4e1e-cb2b-147767dc28ad"
   },
   "outputs": [
    {
     "data": {
      "image/png": "[encoded data removed]",
      "text/plain": [
       "<Figure size 800x400 with 1 Axes>"
      ]
     },
     "metadata": {},
     "output_type": "display_data"
    },
    {
     "data": {
      "image/png": "[encoded data removed]",
      "text/plain": [
       "<Figure size 800x400 with 1 Axes>"
      ]
     },
     "metadata": {},
     "output_type": "display_data"
    }
   ],
   "source": [
    "# More precision\n",
    "elbow_method(scaled_song_features, 130, 2, 100)\n",
    "silhouette_analysis(scaled_song_features, 130, 2, 100)"
   ]
  }
 ],
 "metadata": {
  "colab": {
   "provenance": []
  },
  "kernelspec": {
   "display_name": "Python 3 (ipykernel)",
   "language": "python",
   "name": "python3"
  },
  "language_info": {
   "name": "python"
  }
 },
 "nbformat": 4,
 "nbformat_minor": 0
}
